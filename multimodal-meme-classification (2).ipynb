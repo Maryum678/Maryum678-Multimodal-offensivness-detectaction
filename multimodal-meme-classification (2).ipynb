{
 "cells": [
  {
   "cell_type": "markdown",
   "metadata": {},
   "source": [
    "### To do\n"
   ]
  },
  {
   "cell_type": "markdown",
   "metadata": {
    "_cell_guid": "b1076dfc-b9ad-4769-8c92-a6c4dae69d19",
    "_uuid": "8f2839f25d086af736a60e9eeb907d3b93b6e0e5"
   },
   "source": [
    "> Two datasets \"MET-Meme & Memotion\" (Multimodal image and text) offensive Meme detection \n",
    "\n",
    "> \"Multiclass: Not offensive, slight offensive and very offensive\" \n",
    "\n",
    "> Two Models Models are parallelly work: \n",
    "    on text (BERT and CNN) on images (RESNet-152, also comment ResNet-50) \n",
    "    Then Dense layer, fully concatenation layer and final multi classification (softmax). \n",
    "    Requirement is Dataset should be 7k or more also balance dataset. \n",
    "    Accuracy, recall, f1score, precision (validation and training loss graph), \n",
    "    (validation and training accuracy graph), (Confusion Matrix)"
   ]
  },
  {
   "cell_type": "markdown",
   "metadata": {},
   "source": [
    "**Libraries**"
   ]
  },
  {
   "cell_type": "code",
   "execution_count": 1,
   "metadata": {
    "execution": {
     "iopub.execute_input": "2024-05-15T05:10:47.865669Z",
     "iopub.status.busy": "2024-05-15T05:10:47.865384Z",
     "iopub.status.idle": "2024-05-15T05:10:48.881013Z",
     "shell.execute_reply": "2024-05-15T05:10:48.879660Z",
     "shell.execute_reply.started": "2024-05-15T05:10:47.865645Z"
    }
   },
   "outputs": [],
   "source": [
    "rm -rf *pkl"
   ]
  },
  {
   "cell_type": "code",
   "execution_count": 2,
   "metadata": {
    "execution": {
     "iopub.execute_input": "2024-05-15T05:10:48.884380Z",
     "iopub.status.busy": "2024-05-15T05:10:48.883898Z",
     "iopub.status.idle": "2024-05-15T05:11:04.833663Z",
     "shell.execute_reply": "2024-05-15T05:11:04.832865Z",
     "shell.execute_reply.started": "2024-05-15T05:10:48.884336Z"
    }
   },
   "outputs": [],
   "source": [
    "import warnings\n",
    "warnings.filterwarnings(\"ignore\")\n",
    "\n",
    "import numpy as np\n",
    "import pandas as pd\n",
    "\n",
    "from PIL import Image\n",
    "import cv2 \n",
    "import seaborn as sns\n",
    "import matplotlib.pyplot as plt\n",
    "\n",
    "import pickle\n",
    "import os\n",
    "\n",
    "from sklearn.metrics import accuracy_score, recall_score, precision_score, f1_score, confusion_matrix, classification_report\n",
    "from sklearn.preprocessing import LabelEncoder\n",
    "\n",
    "from tqdm import tqdm\n",
    "\n",
    "import torch\n",
    "from torch.utils.data import Dataset, DataLoader, random_split\n",
    "from torchvision import transforms\n",
    "from transformers import BertTokenizer, BertModel\n",
    "import torch.nn.functional as F\n",
    "import torch.nn as nn\n",
    "import torchvision.models as models\n",
    "import torch.optim as optim\n",
    "from torchvision.models import resnet152\n",
    "from transformers import BertModel, BertTokenizer"
   ]
  },
  {
   "cell_type": "markdown",
   "metadata": {},
   "source": [
    "## EDA and Preprocessing"
   ]
  },
  {
   "cell_type": "markdown",
   "metadata": {},
   "source": [
    "### *Dataset Path*"
   ]
  },
  {
   "cell_type": "code",
   "execution_count": 3,
   "metadata": {
    "execution": {
     "iopub.execute_input": "2024-05-15T05:11:04.840004Z",
     "iopub.status.busy": "2024-05-15T05:11:04.839419Z",
     "iopub.status.idle": "2024-05-15T05:11:04.844311Z",
     "shell.execute_reply": "2024-05-15T05:11:04.843324Z",
     "shell.execute_reply.started": "2024-05-15T05:11:04.839972Z"
    }
   },
   "outputs": [],
   "source": [
    "ROOT_PATH = \"/kaggle/input/memotion-dataset-7k/memotion_dataset_7k\"\n",
    "ROOT_PATH2 = \"/kaggle/input/met-meme\""
   ]
  },
  {
   "cell_type": "code",
   "execution_count": 4,
   "metadata": {
    "execution": {
     "iopub.execute_input": "2024-05-15T05:11:04.845544Z",
     "iopub.status.busy": "2024-05-15T05:11:04.845244Z",
     "iopub.status.idle": "2024-05-15T05:11:04.965440Z",
     "shell.execute_reply": "2024-05-15T05:11:04.964364Z",
     "shell.execute_reply.started": "2024-05-15T05:11:04.845522Z"
    }
   },
   "outputs": [
    {
     "data": {
      "text/html": [
       "<div>\n",
       "<style scoped>\n",
       "    .dataframe tbody tr th:only-of-type {\n",
       "        vertical-align: middle;\n",
       "    }\n",
       "\n",
       "    .dataframe tbody tr th {\n",
       "        vertical-align: top;\n",
       "    }\n",
       "\n",
       "    .dataframe thead th {\n",
       "        text-align: right;\n",
       "    }\n",
       "</style>\n",
       "<table border=\"1\" class=\"dataframe\">\n",
       "  <thead>\n",
       "    <tr style=\"text-align: right;\">\n",
       "      <th></th>\n",
       "      <th>image_name</th>\n",
       "      <th>text</th>\n",
       "      <th>label</th>\n",
       "    </tr>\n",
       "  </thead>\n",
       "  <tbody>\n",
       "    <tr>\n",
       "      <th>0</th>\n",
       "      <td>image_1.jpg</td>\n",
       "      <td>LOOK THERE MY FRIEND LIGHTYEAR NOW ALL SOHALIK...</td>\n",
       "      <td>not_offensive</td>\n",
       "    </tr>\n",
       "    <tr>\n",
       "      <th>1</th>\n",
       "      <td>image_2.jpeg</td>\n",
       "      <td>The best of #10 YearChallenge! Completed in le...</td>\n",
       "      <td>not_offensive</td>\n",
       "    </tr>\n",
       "    <tr>\n",
       "      <th>2</th>\n",
       "      <td>image_3.JPG</td>\n",
       "      <td>Sam Thorne @Strippin ( Follow Follow Saw every...</td>\n",
       "      <td>not_offensive</td>\n",
       "    </tr>\n",
       "    <tr>\n",
       "      <th>3</th>\n",
       "      <td>image_4.png</td>\n",
       "      <td>10 Year Challenge - Sweet Dee Edition</td>\n",
       "      <td>very_offensive</td>\n",
       "    </tr>\n",
       "    <tr>\n",
       "      <th>4</th>\n",
       "      <td>image_5.png</td>\n",
       "      <td>10 YEAR CHALLENGE WITH NO FILTER 47 Hilarious ...</td>\n",
       "      <td>very_offensive</td>\n",
       "    </tr>\n",
       "  </tbody>\n",
       "</table>\n",
       "</div>"
      ],
      "text/plain": [
       "     image_name                                               text  \\\n",
       "0   image_1.jpg  LOOK THERE MY FRIEND LIGHTYEAR NOW ALL SOHALIK...   \n",
       "1  image_2.jpeg  The best of #10 YearChallenge! Completed in le...   \n",
       "2   image_3.JPG  Sam Thorne @Strippin ( Follow Follow Saw every...   \n",
       "3   image_4.png              10 Year Challenge - Sweet Dee Edition   \n",
       "4   image_5.png  10 YEAR CHALLENGE WITH NO FILTER 47 Hilarious ...   \n",
       "\n",
       "            label  \n",
       "0   not_offensive  \n",
       "1   not_offensive  \n",
       "2   not_offensive  \n",
       "3  very_offensive  \n",
       "4  very_offensive  "
      ]
     },
     "execution_count": 4,
     "metadata": {},
     "output_type": "execute_result"
    }
   ],
   "source": [
    "data1 = pd.read_csv(f\"{ROOT_PATH}/labels.csv\")\n",
    "# data.drop(columns= [\"Unnamed: 0\", \"text_ocr\", \"humour\", \"sarcasm\", \"motivational\", \"overall_sentiment\"],\n",
    "#             inplace = True)\n",
    "# data.columns = [\"image_name\", \"text\", \"label\"]\n",
    "\n",
    "\n",
    "data1.drop(columns= [\"Unnamed: 0\",\"text_ocr\", 'humour', 'sarcasm', 'motivational' , 'overall_sentiment'], inplace = True)\n",
    "data1.columns = [\"image_name\", \"text\", \"label\"]\n",
    "\n",
    "data1.head()"
   ]
  },
  {
   "cell_type": "code",
   "execution_count": 5,
   "metadata": {
    "execution": {
     "iopub.execute_input": "2024-05-15T05:11:04.967453Z",
     "iopub.status.busy": "2024-05-15T05:11:04.966982Z",
     "iopub.status.idle": "2024-05-15T05:11:04.973335Z",
     "shell.execute_reply": "2024-05-15T05:11:04.972194Z",
     "shell.execute_reply.started": "2024-05-15T05:11:04.967412Z"
    }
   },
   "outputs": [],
   "source": [
    "labelDict = {'1(slightly)': 'slight', '0(non-offensive)':'not_offensive', '3(very)':'hateful_offensive', '2(moderately)':'very_offensive'}"
   ]
  },
  {
   "cell_type": "code",
   "execution_count": 6,
   "metadata": {
    "execution": {
     "iopub.execute_input": "2024-05-15T05:11:04.975493Z",
     "iopub.status.busy": "2024-05-15T05:11:04.974987Z",
     "iopub.status.idle": "2024-05-15T05:11:05.045231Z",
     "shell.execute_reply": "2024-05-15T05:11:05.044180Z",
     "shell.execute_reply.started": "2024-05-15T05:11:04.975442Z"
    }
   },
   "outputs": [
    {
     "data": {
      "text/html": [
       "<div>\n",
       "<style scoped>\n",
       "    .dataframe tbody tr th:only-of-type {\n",
       "        vertical-align: middle;\n",
       "    }\n",
       "\n",
       "    .dataframe tbody tr th {\n",
       "        vertical-align: top;\n",
       "    }\n",
       "\n",
       "    .dataframe thead th {\n",
       "        text-align: right;\n",
       "    }\n",
       "</style>\n",
       "<table border=\"1\" class=\"dataframe\">\n",
       "  <thead>\n",
       "    <tr style=\"text-align: right;\">\n",
       "      <th></th>\n",
       "      <th>file_name</th>\n",
       "      <th>text</th>\n",
       "    </tr>\n",
       "  </thead>\n",
       "  <tbody>\n",
       "    <tr>\n",
       "      <th>0</th>\n",
       "      <td>image_ (0).jpg</td>\n",
       "      <td>That moment after you throw up and your friend...</td>\n",
       "    </tr>\n",
       "    <tr>\n",
       "      <th>1</th>\n",
       "      <td>image_ (1).jpg</td>\n",
       "      <td>EVERYDAY IS CATURDAY IF you're a cat! I CATS</td>\n",
       "    </tr>\n",
       "    <tr>\n",
       "      <th>2</th>\n",
       "      <td>image_ (10).jpg</td>\n",
       "      <td>me\\nfood at a potluck</td>\n",
       "    </tr>\n",
       "    <tr>\n",
       "      <th>3</th>\n",
       "      <td>image_ (100).jpg</td>\n",
       "      <td>My knowledge in love vs. My knowledge in theor...</td>\n",
       "    </tr>\n",
       "    <tr>\n",
       "      <th>4</th>\n",
       "      <td>image_ (101).jpg</td>\n",
       "      <td>My knowledge of Star   \\n Wars My knowledge of...</td>\n",
       "    </tr>\n",
       "  </tbody>\n",
       "</table>\n",
       "</div>"
      ],
      "text/plain": [
       "          file_name                                               text\n",
       "0    image_ (0).jpg  That moment after you throw up and your friend...\n",
       "1    image_ (1).jpg       EVERYDAY IS CATURDAY IF you're a cat! I CATS\n",
       "2   image_ (10).jpg                              me\\nfood at a potluck\n",
       "3  image_ (100).jpg  My knowledge in love vs. My knowledge in theor...\n",
       "4  image_ (101).jpg  My knowledge of Star   \\n Wars My knowledge of..."
      ]
     },
     "execution_count": 6,
     "metadata": {},
     "output_type": "execute_result"
    }
   ],
   "source": [
    "data2 = pd.read_csv(f\"{ROOT_PATH2}/E_text.csv\", encoding = 'latin-1')\n",
    "labelsDF = pd.read_csv(f\"{ROOT_PATH2}/label_E.csv\", encoding = 'latin-1')\n",
    "labelsDF['offensiveness detection'] = labelsDF['offensiveness detection'].map(labelDict)\n",
    "labelsDF.drop(columns=[\"sentiment category\",\"sentiment degree\", \"intention detection\", \"metaphor occurrence\", \n",
    "                       \"metaphor category\", \"target domain\", \"source domain\", \"target modality\", \"source modality\"], inplace=True)\n",
    "labelsDF.columns = ['file_name', 'label']\n",
    "\n",
    "data2.head()"
   ]
  },
  {
   "cell_type": "code",
   "execution_count": 7,
   "metadata": {
    "execution": {
     "iopub.execute_input": "2024-05-15T05:11:05.046900Z",
     "iopub.status.busy": "2024-05-15T05:11:05.046556Z",
     "iopub.status.idle": "2024-05-15T05:11:05.057479Z",
     "shell.execute_reply": "2024-05-15T05:11:05.056421Z",
     "shell.execute_reply.started": "2024-05-15T05:11:05.046861Z"
    }
   },
   "outputs": [
    {
     "data": {
      "text/html": [
       "<div>\n",
       "<style scoped>\n",
       "    .dataframe tbody tr th:only-of-type {\n",
       "        vertical-align: middle;\n",
       "    }\n",
       "\n",
       "    .dataframe tbody tr th {\n",
       "        vertical-align: top;\n",
       "    }\n",
       "\n",
       "    .dataframe thead th {\n",
       "        text-align: right;\n",
       "    }\n",
       "</style>\n",
       "<table border=\"1\" class=\"dataframe\">\n",
       "  <thead>\n",
       "    <tr style=\"text-align: right;\">\n",
       "      <th></th>\n",
       "      <th>file_name</th>\n",
       "      <th>label</th>\n",
       "    </tr>\n",
       "  </thead>\n",
       "  <tbody>\n",
       "    <tr>\n",
       "      <th>0</th>\n",
       "      <td>image_ (0).jpg</td>\n",
       "      <td>slight</td>\n",
       "    </tr>\n",
       "    <tr>\n",
       "      <th>1</th>\n",
       "      <td>image_ (1).jpg</td>\n",
       "      <td>not_offensive</td>\n",
       "    </tr>\n",
       "    <tr>\n",
       "      <th>2</th>\n",
       "      <td>image_ (10).jpg</td>\n",
       "      <td>not_offensive</td>\n",
       "    </tr>\n",
       "    <tr>\n",
       "      <th>3</th>\n",
       "      <td>image_ (100).jpg</td>\n",
       "      <td>slight</td>\n",
       "    </tr>\n",
       "    <tr>\n",
       "      <th>4</th>\n",
       "      <td>image_ (101).jpg</td>\n",
       "      <td>not_offensive</td>\n",
       "    </tr>\n",
       "  </tbody>\n",
       "</table>\n",
       "</div>"
      ],
      "text/plain": [
       "          file_name          label\n",
       "0    image_ (0).jpg         slight\n",
       "1    image_ (1).jpg  not_offensive\n",
       "2   image_ (10).jpg  not_offensive\n",
       "3  image_ (100).jpg         slight\n",
       "4  image_ (101).jpg  not_offensive"
      ]
     },
     "execution_count": 7,
     "metadata": {},
     "output_type": "execute_result"
    }
   ],
   "source": [
    "labelsDF.head()"
   ]
  },
  {
   "cell_type": "code",
   "execution_count": 8,
   "metadata": {
    "execution": {
     "iopub.execute_input": "2024-05-15T05:11:05.059706Z",
     "iopub.status.busy": "2024-05-15T05:11:05.058755Z",
     "iopub.status.idle": "2024-05-15T05:11:05.100417Z",
     "shell.execute_reply": "2024-05-15T05:11:05.099342Z",
     "shell.execute_reply.started": "2024-05-15T05:11:05.059662Z"
    }
   },
   "outputs": [
    {
     "data": {
      "text/html": [
       "<div>\n",
       "<style scoped>\n",
       "    .dataframe tbody tr th:only-of-type {\n",
       "        vertical-align: middle;\n",
       "    }\n",
       "\n",
       "    .dataframe tbody tr th {\n",
       "        vertical-align: top;\n",
       "    }\n",
       "\n",
       "    .dataframe thead th {\n",
       "        text-align: right;\n",
       "    }\n",
       "</style>\n",
       "<table border=\"1\" class=\"dataframe\">\n",
       "  <thead>\n",
       "    <tr style=\"text-align: right;\">\n",
       "      <th></th>\n",
       "      <th>image_name</th>\n",
       "      <th>text</th>\n",
       "      <th>label</th>\n",
       "    </tr>\n",
       "  </thead>\n",
       "  <tbody>\n",
       "    <tr>\n",
       "      <th>0</th>\n",
       "      <td>image_ (0).jpg</td>\n",
       "      <td>That moment after you throw up and your friend...</td>\n",
       "      <td>slight</td>\n",
       "    </tr>\n",
       "    <tr>\n",
       "      <th>1</th>\n",
       "      <td>image_ (1).jpg</td>\n",
       "      <td>EVERYDAY IS CATURDAY IF you're a cat! I CATS</td>\n",
       "      <td>not_offensive</td>\n",
       "    </tr>\n",
       "    <tr>\n",
       "      <th>2</th>\n",
       "      <td>image_ (10).jpg</td>\n",
       "      <td>me\\nfood at a potluck</td>\n",
       "      <td>not_offensive</td>\n",
       "    </tr>\n",
       "    <tr>\n",
       "      <th>3</th>\n",
       "      <td>image_ (100).jpg</td>\n",
       "      <td>My knowledge in love vs. My knowledge in theor...</td>\n",
       "      <td>slight</td>\n",
       "    </tr>\n",
       "    <tr>\n",
       "      <th>4</th>\n",
       "      <td>image_ (101).jpg</td>\n",
       "      <td>My knowledge of Star   \\n Wars My knowledge of...</td>\n",
       "      <td>not_offensive</td>\n",
       "    </tr>\n",
       "    <tr>\n",
       "      <th>...</th>\n",
       "      <td>...</td>\n",
       "      <td>...</td>\n",
       "      <td>...</td>\n",
       "    </tr>\n",
       "    <tr>\n",
       "      <th>3989</th>\n",
       "      <td>image_ (995).jpg</td>\n",
       "      <td>WHERE TO?\\nDON'T YOU EVER DISINFECT THIS TAXI?</td>\n",
       "      <td>not_offensive</td>\n",
       "    </tr>\n",
       "    <tr>\n",
       "      <th>3990</th>\n",
       "      <td>image_ (996).jpg</td>\n",
       "      <td>you remember the first few weeks we were looki...</td>\n",
       "      <td>slight</td>\n",
       "    </tr>\n",
       "    <tr>\n",
       "      <th>3991</th>\n",
       "      <td>image_ (997).jpg</td>\n",
       "      <td>A neutron walks into a bar and asks how much f...</td>\n",
       "      <td>not_offensive</td>\n",
       "    </tr>\n",
       "    <tr>\n",
       "      <th>3992</th>\n",
       "      <td>image_ (998).jpg</td>\n",
       "      <td>WHAT IF THE BIG BANG WAS A RESET BUTTON FOR A ...</td>\n",
       "      <td>not_offensive</td>\n",
       "    </tr>\n",
       "    <tr>\n",
       "      <th>3993</th>\n",
       "      <td>image_ (999).jpg</td>\n",
       "      <td>DISMISSES THE BIG BANG THEORY AS PARTICLES CAN...</td>\n",
       "      <td>slight</td>\n",
       "    </tr>\n",
       "  </tbody>\n",
       "</table>\n",
       "<p>3994 rows × 3 columns</p>\n",
       "</div>"
      ],
      "text/plain": [
       "            image_name                                               text  \\\n",
       "0       image_ (0).jpg  That moment after you throw up and your friend...   \n",
       "1       image_ (1).jpg       EVERYDAY IS CATURDAY IF you're a cat! I CATS   \n",
       "2      image_ (10).jpg                              me\\nfood at a potluck   \n",
       "3     image_ (100).jpg  My knowledge in love vs. My knowledge in theor...   \n",
       "4     image_ (101).jpg  My knowledge of Star   \\n Wars My knowledge of...   \n",
       "...                ...                                                ...   \n",
       "3989  image_ (995).jpg     WHERE TO?\\nDON'T YOU EVER DISINFECT THIS TAXI?   \n",
       "3990  image_ (996).jpg  you remember the first few weeks we were looki...   \n",
       "3991  image_ (997).jpg  A neutron walks into a bar and asks how much f...   \n",
       "3992  image_ (998).jpg  WHAT IF THE BIG BANG WAS A RESET BUTTON FOR A ...   \n",
       "3993  image_ (999).jpg  DISMISSES THE BIG BANG THEORY AS PARTICLES CAN...   \n",
       "\n",
       "              label  \n",
       "0            slight  \n",
       "1     not_offensive  \n",
       "2     not_offensive  \n",
       "3            slight  \n",
       "4     not_offensive  \n",
       "...             ...  \n",
       "3989  not_offensive  \n",
       "3990         slight  \n",
       "3991  not_offensive  \n",
       "3992  not_offensive  \n",
       "3993         slight  \n",
       "\n",
       "[3994 rows x 3 columns]"
      ]
     },
     "execution_count": 8,
     "metadata": {},
     "output_type": "execute_result"
    }
   ],
   "source": [
    "dataset2 = pd.merge(data2, labelsDF, on='file_name')\n",
    "dataset2.columns = ['image_name', 'text', 'label']\n",
    "dataset2"
   ]
  },
  {
   "cell_type": "code",
   "execution_count": 9,
   "metadata": {
    "execution": {
     "iopub.execute_input": "2024-05-15T05:11:05.104120Z",
     "iopub.status.busy": "2024-05-15T05:11:05.103744Z",
     "iopub.status.idle": "2024-05-15T05:11:05.117032Z",
     "shell.execute_reply": "2024-05-15T05:11:05.115885Z",
     "shell.execute_reply.started": "2024-05-15T05:11:05.104090Z"
    }
   },
   "outputs": [
    {
     "data": {
      "text/html": [
       "<div>\n",
       "<style scoped>\n",
       "    .dataframe tbody tr th:only-of-type {\n",
       "        vertical-align: middle;\n",
       "    }\n",
       "\n",
       "    .dataframe tbody tr th {\n",
       "        vertical-align: top;\n",
       "    }\n",
       "\n",
       "    .dataframe thead th {\n",
       "        text-align: right;\n",
       "    }\n",
       "</style>\n",
       "<table border=\"1\" class=\"dataframe\">\n",
       "  <thead>\n",
       "    <tr style=\"text-align: right;\">\n",
       "      <th></th>\n",
       "      <th>image_name</th>\n",
       "      <th>text</th>\n",
       "      <th>label</th>\n",
       "    </tr>\n",
       "  </thead>\n",
       "  <tbody>\n",
       "    <tr>\n",
       "      <th>0</th>\n",
       "      <td>image_1.jpg</td>\n",
       "      <td>LOOK THERE MY FRIEND LIGHTYEAR NOW ALL SOHALIK...</td>\n",
       "      <td>not_offensive</td>\n",
       "    </tr>\n",
       "    <tr>\n",
       "      <th>1</th>\n",
       "      <td>image_2.jpeg</td>\n",
       "      <td>The best of #10 YearChallenge! Completed in le...</td>\n",
       "      <td>not_offensive</td>\n",
       "    </tr>\n",
       "    <tr>\n",
       "      <th>2</th>\n",
       "      <td>image_3.JPG</td>\n",
       "      <td>Sam Thorne @Strippin ( Follow Follow Saw every...</td>\n",
       "      <td>not_offensive</td>\n",
       "    </tr>\n",
       "    <tr>\n",
       "      <th>3</th>\n",
       "      <td>image_4.png</td>\n",
       "      <td>10 Year Challenge - Sweet Dee Edition</td>\n",
       "      <td>very_offensive</td>\n",
       "    </tr>\n",
       "    <tr>\n",
       "      <th>4</th>\n",
       "      <td>image_5.png</td>\n",
       "      <td>10 YEAR CHALLENGE WITH NO FILTER 47 Hilarious ...</td>\n",
       "      <td>very_offensive</td>\n",
       "    </tr>\n",
       "  </tbody>\n",
       "</table>\n",
       "</div>"
      ],
      "text/plain": [
       "     image_name                                               text  \\\n",
       "0   image_1.jpg  LOOK THERE MY FRIEND LIGHTYEAR NOW ALL SOHALIK...   \n",
       "1  image_2.jpeg  The best of #10 YearChallenge! Completed in le...   \n",
       "2   image_3.JPG  Sam Thorne @Strippin ( Follow Follow Saw every...   \n",
       "3   image_4.png              10 Year Challenge - Sweet Dee Edition   \n",
       "4   image_5.png  10 YEAR CHALLENGE WITH NO FILTER 47 Hilarious ...   \n",
       "\n",
       "            label  \n",
       "0   not_offensive  \n",
       "1   not_offensive  \n",
       "2   not_offensive  \n",
       "3  very_offensive  \n",
       "4  very_offensive  "
      ]
     },
     "execution_count": 9,
     "metadata": {},
     "output_type": "execute_result"
    }
   ],
   "source": [
    "data = pd.concat([data1, dataset2])\n",
    "data.head()"
   ]
  },
  {
   "cell_type": "code",
   "execution_count": 10,
   "metadata": {
    "execution": {
     "iopub.execute_input": "2024-05-15T05:11:05.118728Z",
     "iopub.status.busy": "2024-05-15T05:11:05.118384Z",
     "iopub.status.idle": "2024-05-15T05:12:57.871182Z",
     "shell.execute_reply": "2024-05-15T05:12:57.870234Z",
     "shell.execute_reply.started": "2024-05-15T05:11:05.118701Z"
    }
   },
   "outputs": [],
   "source": [
    "import os\n",
    "import shutil\n",
    "\n",
    "NEW_ROOT_PATH = \"/kaggle/working/data_images\"\n",
    "\n",
    "if os.path.exists(NEW_ROOT_PATH):\n",
    "    # Use os.rmdir() to remove an empty directory\n",
    "    shutil.rmtree(NEW_ROOT_PATH)\n",
    "    print(\"Directory removed successfully.\")\n",
    "\n",
    "os.mkdir(NEW_ROOT_PATH)\n",
    "\n",
    "source_folder1 = \"/kaggle/input/memotion-dataset-7k/memotion_dataset_7k/images\"\n",
    "source_folder2 = \"/kaggle/input/met-meme/Eimages/Eimages/Eimages\"\n",
    "\n",
    "def copy_images(source_folder, destination_folder):\n",
    "    for filename in os.listdir(source_folder):\n",
    "        shutil.copy(os.path.join(source_folder, filename), destination_folder)\n",
    "\n",
    "# Copy images from source_folder1\n",
    "copy_images(source_folder1, NEW_ROOT_PATH)\n",
    "\n",
    "# Copy images from source_f`older2\n",
    "copy_images(source_folder2, NEW_ROOT_PATH)\n",
    "\n"
   ]
  },
  {
   "cell_type": "code",
   "execution_count": 11,
   "metadata": {
    "execution": {
     "iopub.execute_input": "2024-05-15T05:12:57.872885Z",
     "iopub.status.busy": "2024-05-15T05:12:57.872503Z",
     "iopub.status.idle": "2024-05-15T05:12:57.878101Z",
     "shell.execute_reply": "2024-05-15T05:12:57.876949Z",
     "shell.execute_reply.started": "2024-05-15T05:12:57.872851Z"
    }
   },
   "outputs": [],
   "source": [
    "# os.listdir('/kaggle/working/data_images')"
   ]
  },
  {
   "cell_type": "markdown",
   "metadata": {},
   "source": [
    "### Plot Distribution\n",
    "> Plotting the distribution of Labels"
   ]
  },
  {
   "cell_type": "code",
   "execution_count": 12,
   "metadata": {
    "execution": {
     "iopub.execute_input": "2024-05-15T05:12:57.879530Z",
     "iopub.status.busy": "2024-05-15T05:12:57.879212Z",
     "iopub.status.idle": "2024-05-15T05:12:57.891187Z",
     "shell.execute_reply": "2024-05-15T05:12:57.890330Z",
     "shell.execute_reply.started": "2024-05-15T05:12:57.879502Z"
    }
   },
   "outputs": [],
   "source": [
    "def plot_distribution(df, column_name):\n",
    "    \n",
    "    Distribution = df[column_name].value_counts().to_dict()\n",
    "    categories = list(Distribution.keys())\n",
    "    values = list(Distribution.values())\n",
    "\n",
    "    plt.figure(figsize=(10, 6))\n",
    "    sns.barplot(x=categories, y=values, palette='Set2')\n",
    "    for i, v in enumerate(values):\n",
    "        plt.text(i, v + 50, str(v), ha='center', va='bottom')\n",
    "    plt.xlabel('Offensiveness Categories')\n",
    "    plt.ylabel('Frequency')\n",
    "    plt.title('Frequency of Offensiveness Categories')\n",
    "    plt.xticks(rotation=45)  # Rotating x-axis labels for better readability\n",
    "    plt.tight_layout()  # Adjust layout to prevent clipping of labels\n",
    "    plt.show()\n",
    "\n"
   ]
  },
  {
   "cell_type": "code",
   "execution_count": 13,
   "metadata": {
    "execution": {
     "iopub.execute_input": "2024-05-15T05:12:57.892874Z",
     "iopub.status.busy": "2024-05-15T05:12:57.892425Z",
     "iopub.status.idle": "2024-05-15T05:12:58.318801Z",
     "shell.execute_reply": "2024-05-15T05:12:58.317942Z",
     "shell.execute_reply.started": "2024-05-15T05:12:57.892842Z"
    }
   },
   "outputs": [
    {
     "data": {
      "image/png": "[encoded data removed]",
      "text/plain": [
       "<Figure size 1000x600 with 1 Axes>"
      ]
     },
     "metadata": {},
     "output_type": "display_data"
    }
   ],
   "source": [
    "plot_distribution(data, \"label\")"
   ]
  },
  {
   "cell_type": "markdown",
   "metadata": {},
   "source": [
    "### Balancing the Dataset\n",
    "\n",
    "> merged \"very_offensive\" & \"hateful_offensive\" as 'very_offensive'"
   ]
  },
  {
   "cell_type": "code",
   "execution_count": 14,
   "metadata": {
    "execution": {
     "iopub.execute_input": "2024-05-15T05:12:58.320058Z",
     "iopub.status.busy": "2024-05-15T05:12:58.319805Z",
     "iopub.status.idle": "2024-05-15T05:12:58.660798Z",
     "shell.execute_reply": "2024-05-15T05:12:58.658943Z",
     "shell.execute_reply.started": "2024-05-15T05:12:58.320036Z"
    }
   },
   "outputs": [
    {
     "data": {
      "image/png": "[encoded data removed]",
      "text/plain": [
       "<Figure size 1000x600 with 1 Axes>"
      ]
     },
     "metadata": {},
     "output_type": "display_data"
    }
   ],
   "source": [
    "import pandas as pd\n",
    "\n",
    "# Merge 'very_offensive' and 'hateful_offensive' into one category\n",
    "data['label'] = data['label'].replace({ 'hateful_offensive': 'very_offensive'})\n",
    "plot_distribution(data, \"label\")\n"
   ]
  },
  {
   "cell_type": "code",
   "execution_count": null,
   "metadata": {},
   "outputs": [],
   "source": []
  },
  {
   "cell_type": "code",
   "execution_count": 15,
   "metadata": {
    "execution": {
     "iopub.execute_input": "2024-05-15T05:13:28.857270Z",
     "iopub.status.busy": "2024-05-15T05:13:28.856873Z",
     "iopub.status.idle": "2024-05-15T05:13:28.878822Z",
     "shell.execute_reply": "2024-05-15T05:13:28.878084Z",
     "shell.execute_reply.started": "2024-05-15T05:13:28.857232Z"
    }
   },
   "outputs": [],
   "source": [
    "import json\n",
    "import os\n",
    "import torch\n",
    "import torch.nn as nn\n",
    "import torchvision.transforms as transforms\n",
    "from sklearn.metrics import accuracy_score, classification_report\n",
    "from transformers import AutoModel, AutoTokenizer, get_scheduler\n",
    "from torch.utils.data import Dataset, DataLoader, RandomSampler, SequentialSampler\n",
    "from torch.optim import AdamW, SGD\n",
    "from tqdm.notebook import tqdm, trange\n",
    "from time import perf_counter\n",
    "from PIL import Image\n",
    "import pandas as pd"
   ]
  },
  {
   "cell_type": "code",
   "execution_count": 16,
   "metadata": {
    "execution": {
     "iopub.execute_input": "2024-05-15T05:13:29.157170Z",
     "iopub.status.busy": "2024-05-15T05:13:29.156046Z",
     "iopub.status.idle": "2024-05-15T05:13:29.214450Z",
     "shell.execute_reply": "2024-05-15T05:13:29.213345Z",
     "shell.execute_reply.started": "2024-05-15T05:13:29.157128Z"
    }
   },
   "outputs": [
    {
     "data": {
      "text/plain": [
       "device(type='cuda')"
      ]
     },
     "execution_count": 16,
     "metadata": {},
     "output_type": "execute_result"
    }
   ],
   "source": [
    "device = torch.device(\"cuda\" if torch.cuda.is_available() else \"cpu\")\n",
    "# device = 'cpu'\n",
    "device"
   ]
  },
  {
   "cell_type": "code",
   "execution_count": 17,
   "metadata": {
    "execution": {
     "iopub.execute_input": "2024-05-15T05:13:30.145803Z",
     "iopub.status.busy": "2024-05-15T05:13:30.144982Z",
     "iopub.status.idle": "2024-05-15T05:13:48.147250Z",
     "shell.execute_reply": "2024-05-15T05:13:48.145955Z",
     "shell.execute_reply.started": "2024-05-15T05:13:30.145768Z"
    }
   },
   "outputs": [
    {
     "name": "stdout",
     "output_type": "stream",
     "text": [
      "Collecting wget\n",
      "  Downloading wget-3.2.zip (10 kB)\n",
      "  Preparing metadata (setup.py) ... \u001b[?25ldone\n",
      "\u001b[?25hBuilding wheels for collected packages: wget\n",
      "  Building wheel for wget (setup.py) ... \u001b[?25ldone\n",
      "\u001b[?25h  Created wheel for wget: filename=wget-3.2-py3-none-any.whl size=9655 sha256=ae181b8bc9c1d5158aa50cf7ed06c97c4740c9d8579fd3dd21413859216b90fd\n",
      "  Stored in directory: /root/.cache/pip/wheels/8b/f1/7f/5c94f0a7a505ca1c81cd1d9208ae2064675d97582078e6c769\n",
      "Successfully built wget\n",
      "Installing collected packages: wget\n",
      "Successfully installed wget-3.2\n"
     ]
    }
   ],
   "source": [
    "!pip install wget"
   ]
  },
  {
   "cell_type": "code",
   "execution_count": 18,
   "metadata": {
    "execution": {
     "iopub.execute_input": "2024-05-15T05:13:48.150221Z",
     "iopub.status.busy": "2024-05-15T05:13:48.149823Z",
     "iopub.status.idle": "2024-05-15T05:13:48.155510Z",
     "shell.execute_reply": "2024-05-15T05:13:48.154663Z",
     "shell.execute_reply.started": "2024-05-15T05:13:48.150185Z"
    }
   },
   "outputs": [],
   "source": [
    "import os\n",
    "ALBEF_FOLDER = 'ALBEF/'\n",
    "os.makedirs(ALBEF_FOLDER, exist_ok=True)"
   ]
  },
  {
   "cell_type": "code",
   "execution_count": 19,
   "metadata": {
    "execution": {
     "iopub.execute_input": "2024-05-15T05:13:48.156875Z",
     "iopub.status.busy": "2024-05-15T05:13:48.156624Z",
     "iopub.status.idle": "2024-05-15T05:13:51.952621Z",
     "shell.execute_reply": "2024-05-15T05:13:51.951058Z",
     "shell.execute_reply.started": "2024-05-15T05:13:48.156853Z"
    }
   },
   "outputs": [
    {
     "name": "stdout",
     "output_type": "stream",
     "text": [
      "--2024-05-15 05:13:49--  https://raw.githubusercontent.com/salesforce/ALBEF/main/models/vit.py\n",
      "Resolving raw.githubusercontent.com (raw.githubusercontent.com)... 185.199.108.133, 185.199.109.133, 185.199.110.133, ...\n",
      "Connecting to raw.githubusercontent.com (raw.githubusercontent.com)|185.199.108.133|:443... connected.\n",
      "HTTP request sent, awaiting response... 200 OK\n",
      "Length: 8558 (8.4K) [text/plain]\n",
      "Saving to: 'ALBEF//vit.py'\n",
      "\n",
      "ALBEF//vit.py       100%[===================>]   8.36K  --.-KB/s    in 0s      \n",
      "\n",
      "2024-05-15 05:13:49 (38.7 MB/s) - 'ALBEF//vit.py' saved [8558/8558]\n",
      "\n",
      "--2024-05-15 05:13:50--  https://raw.githubusercontent.com/salesforce/ALBEF/main/models/tokenization_bert.py\n",
      "Resolving raw.githubusercontent.com (raw.githubusercontent.com)... 185.199.108.133, 185.199.109.133, 185.199.110.133, ...\n",
      "Connecting to raw.githubusercontent.com (raw.githubusercontent.com)|185.199.108.133|:443... connected.\n",
      "HTTP request sent, awaiting response... 200 OK\n",
      "Length: 24750 (24K) [text/plain]\n",
      "Saving to: 'ALBEF//tokenization_bert.py'\n",
      "\n",
      "ALBEF//tokenization 100%[===================>]  24.17K  --.-KB/s    in 0.002s  \n",
      "\n",
      "2024-05-15 05:13:50 (14.4 MB/s) - 'ALBEF//tokenization_bert.py' saved [24750/24750]\n",
      "\n",
      "--2024-05-15 05:13:51--  https://raw.githubusercontent.com/salesforce/ALBEF/main/models/xbert.py\n",
      "Resolving raw.githubusercontent.com (raw.githubusercontent.com)... 185.199.108.133, 185.199.109.133, 185.199.110.133, ...\n",
      "Connecting to raw.githubusercontent.com (raw.githubusercontent.com)|185.199.108.133|:443... connected.\n",
      "HTTP request sent, awaiting response... 200 OK\n",
      "Length: 82210 (80K) [text/plain]\n",
      "Saving to: 'ALBEF//xbert.py'\n",
      "\n",
      "ALBEF//xbert.py     100%[===================>]  80.28K  --.-KB/s    in 0.02s   \n",
      "\n",
      "2024-05-15 05:13:51 (3.44 MB/s) - 'ALBEF//xbert.py' saved [82210/82210]\n",
      "\n"
     ]
    }
   ],
   "source": [
    "# download pre-trained ALBEF model and required ALBEF files from ALBEF's official repo (only need to do this once to save it in your gdrive)\n",
    "!wget https://raw.githubusercontent.com/salesforce/ALBEF/main/models/vit.py -O $ALBEF_FOLDER/vit.py\n",
    "!wget https://raw.githubusercontent.com/salesforce/ALBEF/main/models/tokenization_bert.py -O $ALBEF_FOLDER/tokenization_bert.py\n",
    "!wget https://raw.githubusercontent.com/salesforce/ALBEF/main/models/xbert.py -O $ALBEF_FOLDER/xbert.py\n"
   ]
  },
  {
   "cell_type": "code",
   "execution_count": 20,
   "metadata": {
    "execution": {
     "iopub.execute_input": "2024-05-15T05:13:51.958718Z",
     "iopub.status.busy": "2024-05-15T05:13:51.958203Z",
     "iopub.status.idle": "2024-05-15T05:13:53.097168Z",
     "shell.execute_reply": "2024-05-15T05:13:53.095918Z",
     "shell.execute_reply.started": "2024-05-15T05:13:51.958674Z"
    }
   },
   "outputs": [],
   "source": [
    "# replace all occurrences of tokenizer_class with processor_class in xbert.py to make it compatible with newer transformers version\n",
    "# if you don't do this step, you will need to install transformers==4.8.1 as specified by the requirements in the ALBEF repo\n",
    "\n",
    "!sed -i 's/tokenizer_class/processor_class/g' $ALBEF_FOLDER/xbert.py"
   ]
  },
  {
   "cell_type": "code",
   "execution_count": 21,
   "metadata": {
    "execution": {
     "iopub.execute_input": "2024-05-15T05:13:53.099098Z",
     "iopub.status.busy": "2024-05-15T05:13:53.098744Z",
     "iopub.status.idle": "2024-05-15T05:13:55.153798Z",
     "shell.execute_reply": "2024-05-15T05:13:55.153029Z",
     "shell.execute_reply.started": "2024-05-15T05:13:53.099065Z"
    }
   },
   "outputs": [],
   "source": [
    "# add path to downloaded ALBEF files\n",
    "import sys\n",
    "sys.path.append(ALBEF_FOLDER)\n",
    "\n",
    "#import libraries required for ALBEF\n",
    "from vit import VisionTransformer\n",
    "from xbert import BertConfig as AlbefBertConfig, BertModel as AlbefBertModel\n",
    "from functools import partial\n",
    "import numpy as np"
   ]
  },
  {
   "cell_type": "code",
   "execution_count": 22,
   "metadata": {
    "execution": {
     "iopub.execute_input": "2024-05-15T05:13:55.155152Z",
     "iopub.status.busy": "2024-05-15T05:13:55.154867Z",
     "iopub.status.idle": "2024-05-15T05:13:55.166529Z",
     "shell.execute_reply": "2024-05-15T05:13:55.165684Z",
     "shell.execute_reply.started": "2024-05-15T05:13:55.155128Z"
    }
   },
   "outputs": [],
   "source": [
    "data = data.dropna(axis=0)"
   ]
  },
  {
   "cell_type": "code",
   "execution_count": 23,
   "metadata": {
    "execution": {
     "iopub.execute_input": "2024-05-15T05:14:24.794383Z",
     "iopub.status.busy": "2024-05-15T05:14:24.793995Z",
     "iopub.status.idle": "2024-05-15T05:14:24.823412Z",
     "shell.execute_reply": "2024-05-15T05:14:24.822162Z",
     "shell.execute_reply.started": "2024-05-15T05:14:24.794355Z"
    }
   },
   "outputs": [
    {
     "data": {
      "text/html": [
       "<div>\n",
       "<style scoped>\n",
       "    .dataframe tbody tr th:only-of-type {\n",
       "        vertical-align: middle;\n",
       "    }\n",
       "\n",
       "    .dataframe tbody tr th {\n",
       "        vertical-align: top;\n",
       "    }\n",
       "\n",
       "    .dataframe thead th {\n",
       "        text-align: right;\n",
       "    }\n",
       "</style>\n",
       "<table border=\"1\" class=\"dataframe\">\n",
       "  <thead>\n",
       "    <tr style=\"text-align: right;\">\n",
       "      <th></th>\n",
       "      <th>image_name</th>\n",
       "      <th>text</th>\n",
       "      <th>not_offensive</th>\n",
       "      <th>slight</th>\n",
       "      <th>very_offensive</th>\n",
       "    </tr>\n",
       "  </thead>\n",
       "  <tbody>\n",
       "    <tr>\n",
       "      <th>0</th>\n",
       "      <td>image_1.jpg</td>\n",
       "      <td>LOOK THERE MY FRIEND LIGHTYEAR NOW ALL SOHALIK...</td>\n",
       "      <td>1.0</td>\n",
       "      <td>0.0</td>\n",
       "      <td>0.0</td>\n",
       "    </tr>\n",
       "    <tr>\n",
       "      <th>1</th>\n",
       "      <td>image_2.jpeg</td>\n",
       "      <td>The best of #10 YearChallenge! Completed in le...</td>\n",
       "      <td>1.0</td>\n",
       "      <td>0.0</td>\n",
       "      <td>0.0</td>\n",
       "    </tr>\n",
       "    <tr>\n",
       "      <th>2</th>\n",
       "      <td>image_3.JPG</td>\n",
       "      <td>Sam Thorne @Strippin ( Follow Follow Saw every...</td>\n",
       "      <td>1.0</td>\n",
       "      <td>0.0</td>\n",
       "      <td>0.0</td>\n",
       "    </tr>\n",
       "    <tr>\n",
       "      <th>3</th>\n",
       "      <td>image_4.png</td>\n",
       "      <td>10 Year Challenge - Sweet Dee Edition</td>\n",
       "      <td>0.0</td>\n",
       "      <td>0.0</td>\n",
       "      <td>1.0</td>\n",
       "    </tr>\n",
       "    <tr>\n",
       "      <th>4</th>\n",
       "      <td>image_5.png</td>\n",
       "      <td>10 YEAR CHALLENGE WITH NO FILTER 47 Hilarious ...</td>\n",
       "      <td>0.0</td>\n",
       "      <td>0.0</td>\n",
       "      <td>1.0</td>\n",
       "    </tr>\n",
       "    <tr>\n",
       "      <th>...</th>\n",
       "      <td>...</td>\n",
       "      <td>...</td>\n",
       "      <td>...</td>\n",
       "      <td>...</td>\n",
       "      <td>...</td>\n",
       "    </tr>\n",
       "    <tr>\n",
       "      <th>3989</th>\n",
       "      <td>image_ (995).jpg</td>\n",
       "      <td>WHERE TO?\\nDON'T YOU EVER DISINFECT THIS TAXI?</td>\n",
       "      <td>1.0</td>\n",
       "      <td>0.0</td>\n",
       "      <td>0.0</td>\n",
       "    </tr>\n",
       "    <tr>\n",
       "      <th>3990</th>\n",
       "      <td>image_ (996).jpg</td>\n",
       "      <td>you remember the first few weeks we were looki...</td>\n",
       "      <td>0.0</td>\n",
       "      <td>1.0</td>\n",
       "      <td>0.0</td>\n",
       "    </tr>\n",
       "    <tr>\n",
       "      <th>3991</th>\n",
       "      <td>image_ (997).jpg</td>\n",
       "      <td>A neutron walks into a bar and asks how much f...</td>\n",
       "      <td>1.0</td>\n",
       "      <td>0.0</td>\n",
       "      <td>0.0</td>\n",
       "    </tr>\n",
       "    <tr>\n",
       "      <th>3992</th>\n",
       "      <td>image_ (998).jpg</td>\n",
       "      <td>WHAT IF THE BIG BANG WAS A RESET BUTTON FOR A ...</td>\n",
       "      <td>1.0</td>\n",
       "      <td>0.0</td>\n",
       "      <td>0.0</td>\n",
       "    </tr>\n",
       "    <tr>\n",
       "      <th>3993</th>\n",
       "      <td>image_ (999).jpg</td>\n",
       "      <td>DISMISSES THE BIG BANG THEORY AS PARTICLES CAN...</td>\n",
       "      <td>0.0</td>\n",
       "      <td>1.0</td>\n",
       "      <td>0.0</td>\n",
       "    </tr>\n",
       "  </tbody>\n",
       "</table>\n",
       "<p>10924 rows × 5 columns</p>\n",
       "</div>"
      ],
      "text/plain": [
       "            image_name                                               text  \\\n",
       "0          image_1.jpg  LOOK THERE MY FRIEND LIGHTYEAR NOW ALL SOHALIK...   \n",
       "1         image_2.jpeg  The best of #10 YearChallenge! Completed in le...   \n",
       "2          image_3.JPG  Sam Thorne @Strippin ( Follow Follow Saw every...   \n",
       "3          image_4.png              10 Year Challenge - Sweet Dee Edition   \n",
       "4          image_5.png  10 YEAR CHALLENGE WITH NO FILTER 47 Hilarious ...   \n",
       "...                ...                                                ...   \n",
       "3989  image_ (995).jpg     WHERE TO?\\nDON'T YOU EVER DISINFECT THIS TAXI?   \n",
       "3990  image_ (996).jpg  you remember the first few weeks we were looki...   \n",
       "3991  image_ (997).jpg  A neutron walks into a bar and asks how much f...   \n",
       "3992  image_ (998).jpg  WHAT IF THE BIG BANG WAS A RESET BUTTON FOR A ...   \n",
       "3993  image_ (999).jpg  DISMISSES THE BIG BANG THEORY AS PARTICLES CAN...   \n",
       "\n",
       "      not_offensive  slight  very_offensive  \n",
       "0               1.0     0.0             0.0  \n",
       "1               1.0     0.0             0.0  \n",
       "2               1.0     0.0             0.0  \n",
       "3               0.0     0.0             1.0  \n",
       "4               0.0     0.0             1.0  \n",
       "...             ...     ...             ...  \n",
       "3989            1.0     0.0             0.0  \n",
       "3990            0.0     1.0             0.0  \n",
       "3991            1.0     0.0             0.0  \n",
       "3992            1.0     0.0             0.0  \n",
       "3993            0.0     1.0             0.0  \n",
       "\n",
       "[10924 rows x 5 columns]"
      ]
     },
     "execution_count": 23,
     "metadata": {},
     "output_type": "execute_result"
    }
   ],
   "source": [
    "# Perform one-hot encoding\n",
    "data = pd.get_dummies(data, columns=['label'], prefix = \"\", \n",
    "                            prefix_sep = \"\",dtype = \"float32\")\n",
    "data"
   ]
  },
  {
   "cell_type": "code",
   "execution_count": 29,
   "metadata": {
    "execution": {
     "iopub.execute_input": "2024-05-15T05:27:00.801805Z",
     "iopub.status.busy": "2024-05-15T05:27:00.800927Z",
     "iopub.status.idle": "2024-05-15T05:28:45.305895Z",
     "shell.execute_reply": "2024-05-15T05:28:45.304849Z",
     "shell.execute_reply.started": "2024-05-15T05:27:00.801771Z"
    }
   },
   "outputs": [],
   "source": [
    "import pickle\n",
    "def load_all_images_and_text(df, path):\n",
    "    images_paths = df['image_name'].to_list()\n",
    "    text = df['text'].to_list()\n",
    "    notOff = data['not_offensive'].to_list()\n",
    "    slightOff = data['slight'].to_list()\n",
    "    veryOff = data['very_offensive'].to_list()\n",
    "    texts = []\n",
    "#     label = df['label'].to_list()\n",
    "    labels = []\n",
    "    images = []\n",
    "    for ind, filename in enumerate(images_paths):\n",
    "        try:\n",
    "            img = Image.open(os.path.join(path,filename)).convert('RGB')\n",
    "        except:\n",
    "            continue\n",
    "        images.append(img)\n",
    "        texts.append(text[ind])\n",
    "        labels.append([notOff[ind], slightOff[ind], veryOff[ind]])\n",
    "\n",
    "    return texts, images, labels\n",
    "\n",
    "text, images, labels = load_all_images_and_text(data, path = NEW_ROOT_PATH)\n",
    "\n",
    "with open(\"text\", \"wb\") as fp:\n",
    "    pickle.dump(text, fp)\n",
    "\n",
    "with open(\"images\", \"wb\") as fp:\n",
    "    pickle.dump(images, fp)\n",
    "\n",
    "with open(\"labels\", \"wb\") as fp:\n",
    "    pickle.dump(labels, fp)"
   ]
  },
  {
   "cell_type": "code",
   "execution_count": 30,
   "metadata": {
    "execution": {
     "iopub.execute_input": "2024-05-15T05:28:45.308025Z",
     "iopub.status.busy": "2024-05-15T05:28:45.307707Z",
     "iopub.status.idle": "2024-05-15T05:28:45.314411Z",
     "shell.execute_reply": "2024-05-15T05:28:45.313465Z",
     "shell.execute_reply.started": "2024-05-15T05:28:45.308000Z"
    }
   },
   "outputs": [
    {
     "data": {
      "text/plain": [
       "10922"
      ]
     },
     "execution_count": 30,
     "metadata": {},
     "output_type": "execute_result"
    }
   ],
   "source": [
    "len(images)"
   ]
  },
  {
   "cell_type": "code",
   "execution_count": 31,
   "metadata": {
    "execution": {
     "iopub.execute_input": "2024-05-15T05:28:45.315715Z",
     "iopub.status.busy": "2024-05-15T05:28:45.315429Z",
     "iopub.status.idle": "2024-05-15T05:28:49.454461Z",
     "shell.execute_reply": "2024-05-15T05:28:49.453415Z",
     "shell.execute_reply.started": "2024-05-15T05:28:45.315693Z"
    }
   },
   "outputs": [
    {
     "data": {
      "text/plain": [
       "10922"
      ]
     },
     "execution_count": 31,
     "metadata": {},
     "output_type": "execute_result"
    }
   ],
   "source": [
    "len(text)"
   ]
  },
  {
   "cell_type": "code",
   "execution_count": 32,
   "metadata": {
    "execution": {
     "iopub.execute_input": "2024-05-15T05:28:49.456702Z",
     "iopub.status.busy": "2024-05-15T05:28:49.456354Z",
     "iopub.status.idle": "2024-05-15T05:28:49.466583Z",
     "shell.execute_reply": "2024-05-15T05:28:49.465473Z",
     "shell.execute_reply.started": "2024-05-15T05:28:49.456674Z"
    }
   },
   "outputs": [
    {
     "data": {
      "text/plain": [
       "10922"
      ]
     },
     "execution_count": 32,
     "metadata": {},
     "output_type": "execute_result"
    }
   ],
   "source": [
    "len(labels)"
   ]
  },
  {
   "cell_type": "code",
   "execution_count": 43,
   "metadata": {
    "execution": {
     "iopub.execute_input": "2024-05-15T05:44:48.031312Z",
     "iopub.status.busy": "2024-05-15T05:44:48.030359Z",
     "iopub.status.idle": "2024-05-15T05:44:48.052881Z",
     "shell.execute_reply": "2024-05-15T05:44:48.051896Z",
     "shell.execute_reply.started": "2024-05-15T05:44:48.031262Z"
    }
   },
   "outputs": [
    {
     "data": {
      "text/plain": [
       "(\"Sam Thorne @Strippin ( Follow Follow Saw everyone posting these 2009 vs 2019 pics so here's mine 6:23 PM - 12 Jan 2019 O 636 Retweets 3 224 LIKES 65 636 3.2K\",\n",
       " tensor([[[ 2.2030,  2.2030,  2.2030,  ..., -1.1108, -1.1108, -1.1254],\n",
       "          [ 2.2030,  2.2030,  2.2030,  ..., -1.1108, -1.1108, -1.1254],\n",
       "          [ 2.2030,  2.2030,  2.2030,  ..., -1.1108, -1.1108, -1.1108],\n",
       "          ...,\n",
       "          [ 2.1738,  2.1738,  2.1738,  ...,  0.3344,  0.3344,  0.3344],\n",
       "          [ 2.2030,  2.2030,  2.2030,  ...,  0.3344,  0.3344,  0.3344],\n",
       "          [ 2.2030,  2.2030,  2.2030,  ...,  0.3344,  0.3344,  0.3344]],\n",
       " \n",
       "         [[ 2.2030,  2.2030,  2.2030,  ..., -0.9211, -0.9211, -0.9357],\n",
       "          [ 2.2030,  2.2030,  2.2030,  ..., -0.9211, -0.9211, -0.9357],\n",
       "          [ 2.1884,  2.1884,  2.1884,  ..., -0.9211, -0.9211, -0.9357],\n",
       "          ...,\n",
       "          [ 2.1738,  2.1738,  2.1738,  ...,  0.3344,  0.3344,  0.3344],\n",
       "          [ 2.2030,  2.2030,  2.2030,  ...,  0.3344,  0.3344,  0.3344],\n",
       "          [ 2.2030,  2.2030,  2.2030,  ...,  0.3344,  0.3344,  0.3344]],\n",
       " \n",
       "         [[ 2.2030,  2.2030,  2.2030,  ..., -0.4247, -0.4247, -0.4393],\n",
       "          [ 2.2030,  2.2030,  2.2030,  ..., -0.4247, -0.4247, -0.4393],\n",
       "          [ 2.1884,  2.1884,  2.1884,  ..., -0.4247, -0.4247, -0.4393],\n",
       "          ...,\n",
       "          [ 2.1738,  2.1738,  2.1738,  ...,  0.3636,  0.3636,  0.3636],\n",
       "          [ 2.2030,  2.2030,  2.2030,  ...,  0.3782,  0.3782,  0.3782],\n",
       "          [ 2.2030,  2.2030,  2.2030,  ...,  0.3928,  0.3928,  0.3928]]]),\n",
       " tensor([0., 1., 0.]))"
      ]
     },
     "execution_count": 43,
     "metadata": {},
     "output_type": "execute_result"
    }
   ],
   "source": [
    "class AlbefDataset(Dataset):\n",
    "    def __init__(self, text, images, label):\n",
    "        self.text = text\n",
    "        self.images = images\n",
    "        self.label = label\n",
    "\n",
    "        # ALBEF settings\n",
    "        self.img_size = 256\n",
    "        self.mean, self.std = (\n",
    "            0.40821073), (0.26862954)\n",
    "\n",
    "\n",
    "        self.train_transform_func = transforms.Compose(\n",
    "                [transforms.RandomResizedCrop(self.img_size, scale=(0.5, 1.0)),\n",
    "                    transforms.RandomHorizontalFlip(),\n",
    "                    transforms.ToTensor(),\n",
    "                    transforms.Normalize(self.mean, self.std)\n",
    "                    ])\n",
    "\n",
    "                    \n",
    "    def __getitem__(self, idx):\n",
    "        text = self.text[idx]\n",
    "        label = self.label[idx]\n",
    "        image = self.images[idx]\n",
    "        \n",
    "        \n",
    "        img = self.train_transform_func(image)\n",
    "\n",
    "        return text, img, torch.tensor(label)\n",
    "\n",
    "    def __len__(self):\n",
    "        return len(self.text)\n",
    "\n",
    "dataset = AlbefDataset(text, images, labels)\n",
    "dataset[2]"
   ]
  },
  {
   "cell_type": "code",
   "execution_count": 44,
   "metadata": {
    "execution": {
     "iopub.execute_input": "2024-05-15T05:44:48.659737Z",
     "iopub.status.busy": "2024-05-15T05:44:48.659081Z",
     "iopub.status.idle": "2024-05-15T05:44:48.757142Z",
     "shell.execute_reply": "2024-05-15T05:44:48.756326Z",
     "shell.execute_reply.started": "2024-05-15T05:44:48.659703Z"
    }
   },
   "outputs": [],
   "source": [
    "bert_tokenizer = AutoTokenizer.from_pretrained('bert-base-uncased')"
   ]
  },
  {
   "cell_type": "code",
   "execution_count": 45,
   "metadata": {
    "execution": {
     "iopub.execute_input": "2024-05-15T05:44:49.100726Z",
     "iopub.status.busy": "2024-05-15T05:44:49.099885Z",
     "iopub.status.idle": "2024-05-15T05:44:49.110575Z",
     "shell.execute_reply": "2024-05-15T05:44:49.109555Z",
     "shell.execute_reply.started": "2024-05-15T05:44:49.100686Z"
    }
   },
   "outputs": [],
   "source": [
    "class AlbefModel(nn.Module):\n",
    "\n",
    "    def __init__(self, bert_config, num_labels, text_pretrained='bert-base-uncased'):\n",
    "        super().__init__()\n",
    "\n",
    "        self.num_labels = num_labels\n",
    "        self.text_encoder = AlbefBertModel.from_pretrained(\n",
    "            text_pretrained, config=bert_config, add_pooling_layer=False)\n",
    "\n",
    "        self.visual_encoder = VisionTransformer(\n",
    "            img_size=256, patch_size=16, embed_dim=768, depth=12, num_heads=12,\n",
    "            mlp_ratio=4, qkv_bias=True, norm_layer=partial(nn.LayerNorm, eps=1e-6))\n",
    "\n",
    "        self.classifier = nn.Linear(\n",
    "            self.text_encoder.config.hidden_size, num_labels)\n",
    "        \n",
    "    \n",
    "    def forward(self, text, image):\n",
    "        image_embeds = self.visual_encoder(image)\n",
    "        image_atts = torch.ones(image_embeds.size()[:-1], dtype=torch.long).to(image_embeds.device)\n",
    "        output = self.text_encoder(text.input_ids, attention_mask=text.attention_mask,\n",
    "                                   encoder_hidden_states=image_embeds, encoder_attention_mask=image_atts, return_dict=True\n",
    "                                   )\n",
    "        logits = self.classifier(output.last_hidden_state[:, 0, :])\n",
    "        return logits"
   ]
  },
  {
   "cell_type": "code",
   "execution_count": 46,
   "metadata": {
    "execution": {
     "iopub.execute_input": "2024-05-15T05:44:49.326599Z",
     "iopub.status.busy": "2024-05-15T05:44:49.325827Z",
     "iopub.status.idle": "2024-05-15T05:44:49.336519Z",
     "shell.execute_reply": "2024-05-15T05:44:49.335465Z",
     "shell.execute_reply.started": "2024-05-15T05:44:49.326561Z"
    }
   },
   "outputs": [],
   "source": [
    "from urllib.request import urlretrieve\n",
    "\n",
    "def load_albef_pretrained(num_out_labels):\n",
    "    tmp_directory = './tmp/albef'\n",
    "    os.makedirs(tmp_directory, exist_ok=True)\n",
    "\n",
    "    albef_bert_config_fp = os.path.join(tmp_directory, 'config_bert.json')\n",
    "    albef_model_fp = os.path.join(tmp_directory, 'ALBEF.pth')\n",
    "\n",
    "    if not os.path.exists(albef_bert_config_fp):\n",
    "        urlretrieve(\"https://raw.githubusercontent.com/salesforce/ALBEF/main/configs/config_bert.json\", albef_bert_config_fp)\n",
    "\n",
    "    if not os.path.exists(albef_model_fp):\n",
    "        urlretrieve(\"https://storage.googleapis.com/sfr-pcl-data-research/ALBEF/ALBEF_4M.pth\", albef_model_fp)\n",
    "\n",
    "    albef_bert_config = AlbefBertConfig.from_json_file(albef_bert_config_fp)\n",
    "    albef_model = AlbefModel(bert_config=albef_bert_config, num_labels=num_out_labels)\n",
    "\n",
    "    print(albef_model_fp)\n",
    "    albef_checkpoint = torch.load(albef_model_fp, map_location='cpu')\n",
    "    albef_state_dict = albef_checkpoint['model']\n",
    "\n",
    "    for key in list(albef_state_dict.keys()):\n",
    "        if 'bert' in key:\n",
    "            encoder_key = key.replace('bert.', '')\n",
    "            albef_state_dict[encoder_key] = albef_state_dict[key]\n",
    "            del albef_state_dict[key]\n",
    "\n",
    "    msg = albef_model.load_state_dict(albef_state_dict, strict=False)\n",
    "    print(\"ALBEF checkpoint loaded from \", albef_model_fp)\n",
    "    # print(msg)\n",
    "    return albef_model"
   ]
  },
  {
   "cell_type": "code",
   "execution_count": 47,
   "metadata": {
    "execution": {
     "iopub.execute_input": "2024-05-15T05:44:49.856862Z",
     "iopub.status.busy": "2024-05-15T05:44:49.855939Z",
     "iopub.status.idle": "2024-05-15T05:44:54.539623Z",
     "shell.execute_reply": "2024-05-15T05:44:54.537833Z",
     "shell.execute_reply.started": "2024-05-15T05:44:49.856805Z"
    }
   },
   "outputs": [
    {
     "name": "stdout",
     "output_type": "stream",
     "text": [
      "./tmp/albef/ALBEF.pth\n",
      "ALBEF checkpoint loaded from  ./tmp/albef/ALBEF.pth\n"
     ]
    }
   ],
   "source": [
    "albef_model = load_albef_pretrained(num_out_labels=3)"
   ]
  },
  {
   "cell_type": "code",
   "execution_count": 48,
   "metadata": {
    "execution": {
     "iopub.execute_input": "2024-05-15T05:44:54.543376Z",
     "iopub.status.busy": "2024-05-15T05:44:54.542590Z",
     "iopub.status.idle": "2024-05-15T05:44:54.556006Z",
     "shell.execute_reply": "2024-05-15T05:44:54.553671Z",
     "shell.execute_reply.started": "2024-05-15T05:44:54.543327Z"
    }
   },
   "outputs": [
    {
     "data": {
      "text/plain": [
       "<generator object Module.parameters at 0x7ef543b36180>"
      ]
     },
     "execution_count": 48,
     "metadata": {},
     "output_type": "execute_result"
    }
   ],
   "source": [
    "albef_model.parameters()"
   ]
  },
  {
   "cell_type": "code",
   "execution_count": 49,
   "metadata": {
    "execution": {
     "iopub.execute_input": "2024-05-15T05:44:54.560267Z",
     "iopub.status.busy": "2024-05-15T05:44:54.558997Z",
     "iopub.status.idle": "2024-05-15T05:44:54.603742Z",
     "shell.execute_reply": "2024-05-15T05:44:54.602157Z",
     "shell.execute_reply.started": "2024-05-15T05:44:54.560190Z"
    }
   },
   "outputs": [],
   "source": [
    "from transformers import AutoImageProcessor\n",
    "import numpy as np\n",
    "\n",
    "# b_inputs = bert_tokenizer(\n",
    "#             \"not hello\", truncation=True, max_length=512,\n",
    "#             return_tensors=\"pt\", padding='max_length'\n",
    "#         ).to(device)\n",
    "\n",
    "# # b_inputs = b_inputs.to(device)\n",
    "# b_imgs = Image.open(NEW_ROOT_PATH + \"/image_445.jpg\")\n",
    "# b_imgs = b_imgs.resize((256,256))\n",
    "# b_imgs = torch.Tensor(np.array(b_imgs)).unsqueeze(0).permute(0, 3, 1, 2).to(device)\n",
    "# b_inputs, b_imgs.shape\n",
    "# b_imgs = b_imgs.to(device)"
   ]
  },
  {
   "cell_type": "code",
   "execution_count": 52,
   "metadata": {
    "execution": {
     "iopub.execute_input": "2024-05-15T05:44:54.630574Z",
     "iopub.status.busy": "2024-05-15T05:44:54.629630Z",
     "iopub.status.idle": "2024-05-15T05:44:54.649731Z",
     "shell.execute_reply": "2024-05-15T05:44:54.647913Z",
     "shell.execute_reply.started": "2024-05-15T05:44:54.630500Z"
    }
   },
   "outputs": [
    {
     "data": {
      "text/plain": [
       "<torch.utils.data.dataloader.DataLoader at 0x7ef5196703a0>"
      ]
     },
     "execution_count": 52,
     "metadata": {},
     "output_type": "execute_result"
    }
   ],
   "source": [
    "train_data_loader = torch.utils.data.DataLoader(dataset, batch_size = 32, shuffle = True)\n",
    "train_data_loader"
   ]
  },
  {
   "cell_type": "code",
   "execution_count": 53,
   "metadata": {
    "execution": {
     "iopub.execute_input": "2024-05-15T05:44:54.653847Z",
     "iopub.status.busy": "2024-05-15T05:44:54.652708Z",
     "iopub.status.idle": "2024-05-15T05:44:54.669574Z",
     "shell.execute_reply": "2024-05-15T05:44:54.667830Z",
     "shell.execute_reply.started": "2024-05-15T05:44:54.653801Z"
    }
   },
   "outputs": [],
   "source": [
    "from torchvision.ops import sigmoid_focal_loss\n",
    "num_train_epochs = 5\n",
    "learning_rate = 0.0005\n",
    "t_total = len(train_data_loader) * num_train_epochs\n",
    "\n",
    "\n",
    "optimizer = SGD(albef_model.parameters(), lr=learning_rate)\n",
    "# scheduler = get_scheduler(name=\"cosine\", optimizer=optimizer, num_warmup_steps=0, num_training_steps=t_total)\n",
    "\n",
    "criterion = sigmoid_focal_loss"
   ]
  },
  {
   "cell_type": "code",
   "execution_count": null,
   "metadata": {
    "execution": {
     "iopub.execute_input": "2024-05-15T05:44:54.671745Z",
     "iopub.status.busy": "2024-05-15T05:44:54.670918Z"
    }
   },
   "outputs": [
    {
     "data": {
      "application/vnd.jupyter.widget-view+json": {
       "model_id": "1e0ead23e772405a9b38a74be6e6b9f2",
       "version_major": 2,
       "version_minor": 0
      },
      "text/plain": [
       "Epochs:   0%|          | 0/5 [00:00<?, ?it/s]"
      ]
     },
     "metadata": {},
     "output_type": "display_data"
    },
    {
     "data": {
      "application/vnd.jupyter.widget-view+json": {
       "model_id": "b27f4db3682742f598ea38a7c2688593",
       "version_major": 2,
       "version_minor": 0
      },
      "text/plain": [
       "Batch:   0%|          | 0/683 [00:00<?, ?it/s]"
      ]
     },
     "metadata": {},
     "output_type": "display_data"
    },
    {
     "name": "stdout",
     "output_type": "stream",
     "text": [
      "epoch = 0\n",
      "    epoch_loss = 15.76297711301595\n",
      "    avg_epoch_loss = 0.023079029448046778\n",
      "    learning rate = 0.0005\n"
     ]
    },
    {
     "data": {
      "application/vnd.jupyter.widget-view+json": {
       "model_id": "b3bca9a99e8c4024bceb3751cf3a6bf3",
       "version_major": 2,
       "version_minor": 0
      },
      "text/plain": [
       "Batch:   0%|          | 0/683 [00:00<?, ?it/s]"
      ]
     },
     "metadata": {},
     "output_type": "display_data"
    },
    {
     "name": "stdout",
     "output_type": "stream",
     "text": [
      "epoch = 1\n",
      "    epoch_loss = 3.1123137273825705\n",
      "    avg_epoch_loss = 0.004556828297778288\n",
      "    learning rate = 0.0005\n"
     ]
    },
    {
     "data": {
      "application/vnd.jupyter.widget-view+json": {
       "model_id": "64cb223bbc934ea19868f158b5a01d6a",
       "version_major": 2,
       "version_minor": 0
      },
      "text/plain": [
       "Batch:   0%|          | 0/683 [00:00<?, ?it/s]"
      ]
     },
     "metadata": {},
     "output_type": "display_data"
    },
    {
     "name": "stdout",
     "output_type": "stream",
     "text": [
      "epoch = 2\n",
      "    epoch_loss = 1.6859588886145502\n",
      "    avg_epoch_loss = 0.002468461037503002\n",
      "    learning rate = 0.0005\n"
     ]
    },
    {
     "data": {
      "application/vnd.jupyter.widget-view+json": {
       "model_id": "1573227d399d419581a971ae9750cfd0",
       "version_major": 2,
       "version_minor": 0
      },
      "text/plain": [
       "Batch:   0%|          | 0/683 [00:00<?, ?it/s]"
      ]
     },
     "metadata": {},
     "output_type": "display_data"
    },
    {
     "name": "stdout",
     "output_type": "stream",
     "text": [
      "epoch = 3\n",
      "    epoch_loss = 1.1459681848064065\n",
      "    avg_epoch_loss = 0.0016778450729229963\n",
      "    learning rate = 0.0005\n"
     ]
    },
    {
     "data": {
      "application/vnd.jupyter.widget-view+json": {
       "model_id": "fd61e58e6f55484ebef50d64d031a50b",
       "version_major": 2,
       "version_minor": 0
      },
      "text/plain": [
       "Batch:   0%|          | 0/683 [00:00<?, ?it/s]"
      ]
     },
     "metadata": {},
     "output_type": "display_data"
    }
   ],
   "source": [
    "torch.cuda.empty_cache()\n",
    "albef_model = albef_model.to(device)\n",
    "albef_model.train()\n",
    "\n",
    "for epoch_num in trange(num_train_epochs, desc='Epochs'):\n",
    "    epoch_total_loss = 0\n",
    "    correct = 0\n",
    "    total = 0\n",
    "\n",
    "    for step, batch in tqdm(enumerate(train_data_loader), total=len(train_data_loader), desc='Batch'):        \n",
    "        b_text, b_imgs, b_labels, = batch  \n",
    "        # print(b_text, b_imgs, b_labels)\n",
    "        # break\n",
    "        b_inputs = bert_tokenizer(\n",
    "            list(b_text), truncation=True, max_length=128,\n",
    "            return_tensors=\"pt\", padding='max_length'\n",
    "        )\n",
    "        \n",
    "        b_labels = b_labels.to(device)\n",
    "        b_imgs = b_imgs.to(device)\n",
    "        b_inputs = b_inputs.to(device)\n",
    "\n",
    "        albef_model.zero_grad()        \n",
    "        b_logits = albef_model(text=b_inputs, image=b_imgs).squeeze(1)\n",
    "        \n",
    "        loss = criterion(b_logits.to(torch.float32), b_labels.to(torch.float32), reduction = 'mean')\n",
    "\n",
    "        epoch_total_loss += loss.item()\n",
    "\n",
    "        # Perform a backward pass to calculate the gradients\n",
    "        loss.backward()\n",
    "\n",
    "\n",
    "        optimizer.step()\n",
    "        # scheduler.step()\n",
    "        \n",
    "        _, predicted = torch.max(b_logits, 1)\n",
    "        total += b_labels.size(0)\n",
    "        correct += (predicted == torch.argmax(b_labels, 1)).sum().item()\n",
    "        \n",
    "    avg_loss = epoch_total_loss/len(train_data_loader)\n",
    "\n",
    "    print('epoch =', epoch_num)\n",
    "    print(\"Accuracy:\", correct/total)\n",
    "    print('    epoch_loss =', epoch_total_loss)\n",
    "    print('    avg_epoch_loss =', avg_loss)\n",
    "    print('    learning rate =', optimizer.param_groups[0][\"lr\"])"
   ]
  },
  {
   "cell_type": "code",
   "execution_count": null,
   "metadata": {},
   "outputs": [],
   "source": []
  }
 ],
 "metadata": {
  "kaggle": {
   "accelerator": "nvidiaTeslaT4",
   "dataSources": [
    {
     "datasetId": 531544,
     "sourceId": 973292,
     "sourceType": "datasetVersion"
    },
    {
     "datasetId": 2638370,
     "sourceId": 6011029,
     "sourceType": "datasetVersion"
    }
   ],
   "dockerImageVersionId": 30698,
   "isGpuEnabled": true,
   "isInternetEnabled": true,
   "language": "python",
   "sourceType": "notebook"
  },
  "kernelspec": {
   "display_name": "Python 3 (ipykernel)",
   "language": "python",
   "name": "python3"
  },
  "language_info": {
   "codemirror_mode": {
    "name": "ipython",
    "version": 3
   },
   "file_extension": ".py",
   "mimetype": "text/x-python",
   "name": "python",
   "nbconvert_exporter": "python",
   "pygments_lexer": "ipython3",
   "version": "3.9.12"
  }
 },
 "nbformat": 4,
 "nbformat_minor": 4
}
